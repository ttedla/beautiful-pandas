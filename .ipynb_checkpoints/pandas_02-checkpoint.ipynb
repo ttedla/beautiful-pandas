{
 "cells": [
  {
   "cell_type": "markdown",
   "metadata": {},
   "source": [
    "# ውሂብን ለይቶ ማውጣት"
   ]
  },
  {
   "cell_type": "markdown",
   "metadata": {},
   "source": [
    "ሁለት አይነት የውሂብ ቅርጾች (ዳታ ስትራክቸር) በፓንዳስ ይገኛሉ። \n",
    "* ዳታ ፍሬም ፡ ይኼ ውሂባችንን በሰንጠረዥ መልክ ያስቀምጥልናል። \n",
    "* ሲሪስ ፡ ይኼ ባለአንድ አምድ ውሂብ ይፈጥራል።  \n",
    "\n",
    "ሁለቱንም ቅርጾች እንመለከታለን። "
   ]
  },
  {
   "cell_type": "markdown",
   "metadata": {},
   "source": [
    "## ሲሪስ"
   ]
  },
  {
   "cell_type": "code",
   "execution_count": 5,
   "metadata": {},
   "outputs": [],
   "source": [
    "# ሲሪስን እንደሚከተለው መፍጠር እንችላለን። \n",
    "# ጠቋሚ ማውጫ እለመጻፍ እንችላለን። ፓንዳስ በነባሪው የ ቁጥር ማውጫ ከዜሮ ጀምሮ ያደርግለታል። \n",
    "import pandas as pd\n",
    "ሲሪስ = pd.Series([0.1, 0.3, 0.9, 1.1, 2.3, 0.2], index=['ሀ', 'ለ', 'ሐ', 'መ', 'ሰ', 'የ' ])"
   ]
  },
  {
   "cell_type": "code",
   "execution_count": 6,
   "metadata": {},
   "outputs": [
    {
     "data": {
      "text/plain": [
       "ሀ    0.1\n",
       "ለ    0.3\n",
       "ሐ    0.9\n",
       "መ    1.1\n",
       "ሰ    2.3\n",
       "የ    0.2\n",
       "dtype: float64"
      ]
     },
     "execution_count": 6,
     "metadata": {},
     "output_type": "execute_result"
    }
   ],
   "source": [
    "ሲሪስ"
   ]
  },
  {
   "cell_type": "code",
   "execution_count": 7,
   "metadata": {},
   "outputs": [
    {
     "data": {
      "text/plain": [
       "0.1"
      ]
     },
     "execution_count": 7,
     "metadata": {},
     "output_type": "execute_result"
    }
   ],
   "source": [
    "# ጠቋሚውን በመጠቀም ማውጣት እንችላለን። \n",
    "ሲሪስ['ሀ']"
   ]
  },
  {
   "cell_type": "code",
   "execution_count": 8,
   "metadata": {},
   "outputs": [
    {
     "data": {
      "text/plain": [
       "True"
      ]
     },
     "execution_count": 8,
     "metadata": {},
     "output_type": "execute_result"
    }
   ],
   "source": [
    "# ጠቋሚው መኖሩን ማወቅ ከፈለግን \n",
    "'የ' in ሲሪስ"
   ]
  },
  {
   "cell_type": "code",
   "execution_count": 10,
   "metadata": {},
   "outputs": [
    {
     "data": {
      "text/plain": [
       "Index(['ሀ', 'ለ', 'ሐ', 'መ', 'ሰ', 'የ'], dtype='object')"
      ]
     },
     "execution_count": 10,
     "metadata": {},
     "output_type": "execute_result"
    }
   ],
   "source": [
    "# ጠቋሚዎቹን ለማየት \n",
    "# ከመደበኛ የፓይተን መዝገበቃል (ዲክሽነሪ) ከተመሳሰለባችሁ አልተሳሳትችሁም። \n",
    "ሲሪስ.keys()"
   ]
  },
  {
   "cell_type": "code",
   "execution_count": 16,
   "metadata": {},
   "outputs": [
    {
     "name": "stdout",
     "output_type": "stream",
     "text": [
      "0.1\n",
      "0.3\n",
      "0.9\n",
      "1.1\n",
      "2.3\n",
      "0.2\n"
     ]
    }
   ],
   "source": [
    "# ቁልፍ (ኪይ) ካለ እሴት (ቫልዩ) ይኖራል ማለት ነው። \n",
    "for k, value in list(ሲሪስ.items()):\n",
    "    print(value)"
   ]
  },
  {
   "cell_type": "code",
   "execution_count": 17,
   "metadata": {},
   "outputs": [
    {
     "data": {
      "text/plain": [
       "0.2"
      ]
     },
     "execution_count": 17,
     "metadata": {},
     "output_type": "execute_result"
    }
   ],
   "source": [
    "# እሴቶችን (ቫሊዩን) መቀየር/ማስተካከል ይቻላል። \n",
    "ሲሪስ['የ']"
   ]
  },
  {
   "cell_type": "code",
   "execution_count": 18,
   "metadata": {},
   "outputs": [],
   "source": [
    "# እሴቱን ለመቀየር \n",
    "ሲሪስ['የ'] =1.3"
   ]
  },
  {
   "cell_type": "code",
   "execution_count": 19,
   "metadata": {},
   "outputs": [
    {
     "data": {
      "text/plain": [
       "1.3"
      ]
     },
     "execution_count": 19,
     "metadata": {},
     "output_type": "execute_result"
    }
   ],
   "source": [
    "ሲሪስ['የ']"
   ]
  },
  {
   "cell_type": "code",
   "execution_count": 20,
   "metadata": {},
   "outputs": [
    {
     "data": {
      "text/plain": [
       "ሀ    0.1\n",
       "ለ    0.3\n",
       "ሐ    0.9\n",
       "መ    1.1\n",
       "ሰ    2.3\n",
       "የ    1.3\n",
       "dtype: float64"
      ]
     },
     "execution_count": 20,
     "metadata": {},
     "output_type": "execute_result"
    }
   ],
   "source": [
    "ሲሪስ"
   ]
  },
  {
   "cell_type": "markdown",
   "metadata": {},
   "source": [
    "### ከፋይል አንብቦ ሲሪስ መፍጠር"
   ]
  },
  {
   "cell_type": "markdown",
   "metadata": {},
   "source": [
    "ፋይልን በማንበብ የምናገኘውን ዳታ ፍሬም ወይም ሰንጠረዥ አምዱን ለይተን በማውጣት እንደሲሪስ መጠቀም እንችላለን። "
   ]
  },
  {
   "cell_type": "code",
   "execution_count": 21,
   "metadata": {},
   "outputs": [],
   "source": [
    "# ፋይልን ማንበብ \n",
    "ዳታ_ፍሬም = pd.read_csv('./data/ufo.csv')"
   ]
  },
  {
   "cell_type": "code",
   "execution_count": 22,
   "metadata": {},
   "outputs": [
    {
     "data": {
      "text/html": [
       "<div>\n",
       "<style scoped>\n",
       "    .dataframe tbody tr th:only-of-type {\n",
       "        vertical-align: middle;\n",
       "    }\n",
       "\n",
       "    .dataframe tbody tr th {\n",
       "        vertical-align: top;\n",
       "    }\n",
       "\n",
       "    .dataframe thead th {\n",
       "        text-align: right;\n",
       "    }\n",
       "</style>\n",
       "<table border=\"1\" class=\"dataframe\">\n",
       "  <thead>\n",
       "    <tr style=\"text-align: right;\">\n",
       "      <th></th>\n",
       "      <th>City</th>\n",
       "      <th>Colors Reported</th>\n",
       "      <th>Shape Reported</th>\n",
       "      <th>State</th>\n",
       "      <th>Time</th>\n",
       "    </tr>\n",
       "  </thead>\n",
       "  <tbody>\n",
       "    <tr>\n",
       "      <th>0</th>\n",
       "      <td>Ithaca</td>\n",
       "      <td>NaN</td>\n",
       "      <td>TRIANGLE</td>\n",
       "      <td>NY</td>\n",
       "      <td>6/1/1930 22:00</td>\n",
       "    </tr>\n",
       "    <tr>\n",
       "      <th>1</th>\n",
       "      <td>Willingboro</td>\n",
       "      <td>NaN</td>\n",
       "      <td>OTHER</td>\n",
       "      <td>NJ</td>\n",
       "      <td>6/30/1930 20:00</td>\n",
       "    </tr>\n",
       "  </tbody>\n",
       "</table>\n",
       "</div>"
      ],
      "text/plain": [
       "          City Colors Reported Shape Reported State             Time\n",
       "0       Ithaca             NaN       TRIANGLE    NY   6/1/1930 22:00\n",
       "1  Willingboro             NaN          OTHER    NJ  6/30/1930 20:00"
      ]
     },
     "execution_count": 22,
     "metadata": {},
     "output_type": "execute_result"
    }
   ],
   "source": [
    "ዳታ_ፍሬም.head(2)"
   ]
  },
  {
   "cell_type": "code",
   "execution_count": 23,
   "metadata": {},
   "outputs": [
    {
     "data": {
      "text/plain": [
       "pandas.core.frame.DataFrame"
      ]
     },
     "execution_count": 23,
     "metadata": {},
     "output_type": "execute_result"
    }
   ],
   "source": [
    "# ስቴት የሚለውን አምድ ለይተን በማውጣት ሲሪስ እንፍጠር። \n",
    "type(ዳታ_ፍሬም)"
   ]
  },
  {
   "cell_type": "code",
   "execution_count": 28,
   "metadata": {},
   "outputs": [],
   "source": [
    "# ስቴት የሚለውን አምድ ለይተን በማውጣት ሲሪስ እንፍጠር።\n",
    "#loc ወይም ilocን መጠቀም እንችላለን። \n",
    "# ወደፊት እንመለከተዋለን \n",
    "ስቴት_ሲሪስ= ዳታ_ፍሬም.State"
   ]
  },
  {
   "cell_type": "code",
   "execution_count": 29,
   "metadata": {},
   "outputs": [
    {
     "data": {
      "text/plain": [
       "pandas.core.series.Series"
      ]
     },
     "execution_count": 29,
     "metadata": {},
     "output_type": "execute_result"
    }
   ],
   "source": [
    "type(ስቴት_ሲሪስ)"
   ]
  },
  {
   "cell_type": "code",
   "execution_count": 31,
   "metadata": {},
   "outputs": [
    {
     "data": {
      "text/plain": [
       "0    NY\n",
       "1    NJ\n",
       "Name: State, dtype: object"
      ]
     },
     "execution_count": 31,
     "metadata": {},
     "output_type": "execute_result"
    }
   ],
   "source": [
    "ስቴት_ሲሪስ[0:2]"
   ]
  },
  {
   "cell_type": "code",
   "execution_count": 33,
   "metadata": {},
   "outputs": [],
   "source": [
    "# ለምሳሌ NY ብቻ መለየት ብንፈልግ \n",
    "ስቴት_ሲሪስ_NY = ስቴት_ሲሪስ[ስቴት_ሲሪስ=='NY']"
   ]
  },
  {
   "cell_type": "code",
   "execution_count": 34,
   "metadata": {},
   "outputs": [
    {
     "data": {
      "text/plain": [
       "0     NY\n",
       "4     NY\n",
       "41    NY\n",
       "Name: State, dtype: object"
      ]
     },
     "execution_count": 34,
     "metadata": {},
     "output_type": "execute_result"
    }
   ],
   "source": [
    "ስቴት_ሲሪስ_NY[0:3]"
   ]
  },
  {
   "cell_type": "code",
   "execution_count": 48,
   "metadata": {},
   "outputs": [],
   "source": [
    "# loc በመጠቀም ሲሪስ መውሰድ እንችላለን። \n",
    "# ሲሪስ ጠቋሚውን እና የአምዱን ስም መውሰድ ይችላል። \n",
    "ስቴት_ሲሪስ_loc = ዳታ_ፍሬም.loc[:, 'State']"
   ]
  },
  {
   "cell_type": "code",
   "execution_count": 49,
   "metadata": {},
   "outputs": [
    {
     "data": {
      "text/plain": [
       "True"
      ]
     },
     "execution_count": 49,
     "metadata": {},
     "output_type": "execute_result"
    }
   ],
   "source": [
    "# ሲሪስ_ሎክ እና ስቴት_ሲሪስ እኩል መሆናቸውን ለማረጋገጥ \n",
    "ስቴት_ሲሪስ_NY_loc.equals(ስቴት_ሲሪስ)"
   ]
  },
  {
   "cell_type": "code",
   "execution_count": 53,
   "metadata": {},
   "outputs": [
    {
     "data": {
      "text/plain": [
       "City                       Ithaca\n",
       "Colors Reported               NaN\n",
       "Shape Reported           TRIANGLE\n",
       "State                          NY\n",
       "Time               6/1/1930 22:00\n",
       "Name: 0, dtype: object"
      ]
     },
     "execution_count": 53,
     "metadata": {},
     "output_type": "execute_result"
    }
   ],
   "source": [
    "# iloc ቁጥርን እንደጠቋሚ በመጠቀም የሚሰራ ነው። \n",
    "# የመጀመሪያውን ረድፍ ለማግኘት \n",
    "ዳታ_ፍሬም.iloc[0]"
   ]
  },
  {
   "cell_type": "code",
   "execution_count": 55,
   "metadata": {},
   "outputs": [
    {
     "data": {
      "text/plain": [
       "City                   Willingboro\n",
       "Colors Reported                NaN\n",
       "Shape Reported               OTHER\n",
       "State                           NJ\n",
       "Time               6/30/1930 20:00\n",
       "Name: 1, dtype: object"
      ]
     },
     "execution_count": 55,
     "metadata": {},
     "output_type": "execute_result"
    }
   ],
   "source": [
    "# iloc ቁጥርን እንደጠቋሚ በመጠቀም የሚሰራ ነው። \n",
    "# ሁለተኛው ረድፍ ላይ ያለውን ለመለየት \n",
    "# በግራ ያሉት የአምዱ ስም (ኮለመን ኔም) ናቸው። \n",
    "ዳታ_ፍሬም.iloc[1]"
   ]
  },
  {
   "cell_type": "code",
   "execution_count": 56,
   "metadata": {},
   "outputs": [
    {
     "data": {
      "text/html": [
       "<div>\n",
       "<style scoped>\n",
       "    .dataframe tbody tr th:only-of-type {\n",
       "        vertical-align: middle;\n",
       "    }\n",
       "\n",
       "    .dataframe tbody tr th {\n",
       "        vertical-align: top;\n",
       "    }\n",
       "\n",
       "    .dataframe thead th {\n",
       "        text-align: right;\n",
       "    }\n",
       "</style>\n",
       "<table border=\"1\" class=\"dataframe\">\n",
       "  <thead>\n",
       "    <tr style=\"text-align: right;\">\n",
       "      <th></th>\n",
       "      <th>City</th>\n",
       "      <th>Colors Reported</th>\n",
       "      <th>Shape Reported</th>\n",
       "      <th>State</th>\n",
       "      <th>Time</th>\n",
       "    </tr>\n",
       "  </thead>\n",
       "  <tbody>\n",
       "    <tr>\n",
       "      <th>0</th>\n",
       "      <td>Ithaca</td>\n",
       "      <td>NaN</td>\n",
       "      <td>TRIANGLE</td>\n",
       "      <td>NY</td>\n",
       "      <td>6/1/1930 22:00</td>\n",
       "    </tr>\n",
       "    <tr>\n",
       "      <th>1</th>\n",
       "      <td>Willingboro</td>\n",
       "      <td>NaN</td>\n",
       "      <td>OTHER</td>\n",
       "      <td>NJ</td>\n",
       "      <td>6/30/1930 20:00</td>\n",
       "    </tr>\n",
       "  </tbody>\n",
       "</table>\n",
       "</div>"
      ],
      "text/plain": [
       "          City Colors Reported Shape Reported State             Time\n",
       "0       Ithaca             NaN       TRIANGLE    NY   6/1/1930 22:00\n",
       "1  Willingboro             NaN          OTHER    NJ  6/30/1930 20:00"
      ]
     },
     "execution_count": 56,
     "metadata": {},
     "output_type": "execute_result"
    }
   ],
   "source": [
    "# iloc ቁጥርን እንደጠቋሚ በመጠቀም የሚሰራ ነው። \n",
    "# በጋራ 0 እና 1 ረድፍ ላይ ያሉትን ለመለየት \n",
    "# ከዜሮ ስለሚጀምር 2ትን አይጠራም። \n",
    "ዳታ_ፍሬም.iloc[0:2]"
   ]
  },
  {
   "cell_type": "code",
   "execution_count": 63,
   "metadata": {},
   "outputs": [
    {
     "data": {
      "text/html": [
       "<div>\n",
       "<style scoped>\n",
       "    .dataframe tbody tr th:only-of-type {\n",
       "        vertical-align: middle;\n",
       "    }\n",
       "\n",
       "    .dataframe tbody tr th {\n",
       "        vertical-align: top;\n",
       "    }\n",
       "\n",
       "    .dataframe thead th {\n",
       "        text-align: right;\n",
       "    }\n",
       "</style>\n",
       "<table border=\"1\" class=\"dataframe\">\n",
       "  <thead>\n",
       "    <tr style=\"text-align: right;\">\n",
       "      <th></th>\n",
       "      <th>City</th>\n",
       "      <th>Colors Reported</th>\n",
       "      <th>Shape Reported</th>\n",
       "      <th>State</th>\n",
       "      <th>Time</th>\n",
       "    </tr>\n",
       "  </thead>\n",
       "  <tbody>\n",
       "    <tr>\n",
       "      <th>0</th>\n",
       "      <td>Ithaca</td>\n",
       "      <td>NaN</td>\n",
       "      <td>TRIANGLE</td>\n",
       "      <td>NY</td>\n",
       "      <td>6/1/1930 22:00</td>\n",
       "    </tr>\n",
       "    <tr>\n",
       "      <th>1</th>\n",
       "      <td>Willingboro</td>\n",
       "      <td>NaN</td>\n",
       "      <td>OTHER</td>\n",
       "      <td>NJ</td>\n",
       "      <td>6/30/1930 20:00</td>\n",
       "    </tr>\n",
       "  </tbody>\n",
       "</table>\n",
       "</div>"
      ],
      "text/plain": [
       "          City Colors Reported Shape Reported State             Time\n",
       "0       Ithaca             NaN       TRIANGLE    NY   6/1/1930 22:00\n",
       "1  Willingboro             NaN          OTHER    NJ  6/30/1930 20:00"
      ]
     },
     "execution_count": 63,
     "metadata": {},
     "output_type": "execute_result"
    }
   ],
   "source": [
    "# iloc ቁጥርን እንደጠቋሚ በመጠቀም የሚሰራ ነው። \n",
    "# በጋራ 0 እና 1 ረድፍ ላይ ያሉትን ለመለየት [0,1] \n",
    "# ሁለት ስብር ቅንፍ በመጠቀም  \n",
    "ዳታ_ፍሬም.iloc[[0, 1]]"
   ]
  },
  {
   "cell_type": "code",
   "execution_count": 66,
   "metadata": {},
   "outputs": [
    {
     "data": {
      "text/html": [
       "<div>\n",
       "<style scoped>\n",
       "    .dataframe tbody tr th:only-of-type {\n",
       "        vertical-align: middle;\n",
       "    }\n",
       "\n",
       "    .dataframe tbody tr th {\n",
       "        vertical-align: top;\n",
       "    }\n",
       "\n",
       "    .dataframe thead th {\n",
       "        text-align: right;\n",
       "    }\n",
       "</style>\n",
       "<table border=\"1\" class=\"dataframe\">\n",
       "  <thead>\n",
       "    <tr style=\"text-align: right;\">\n",
       "      <th></th>\n",
       "      <th>Shape Reported</th>\n",
       "      <th>State</th>\n",
       "      <th>Time</th>\n",
       "    </tr>\n",
       "  </thead>\n",
       "  <tbody>\n",
       "    <tr>\n",
       "      <th>0</th>\n",
       "      <td>TRIANGLE</td>\n",
       "      <td>NY</td>\n",
       "      <td>6/1/1930 22:00</td>\n",
       "    </tr>\n",
       "    <tr>\n",
       "      <th>1</th>\n",
       "      <td>OTHER</td>\n",
       "      <td>NJ</td>\n",
       "      <td>6/30/1930 20:00</td>\n",
       "    </tr>\n",
       "  </tbody>\n",
       "</table>\n",
       "</div>"
      ],
      "text/plain": [
       "  Shape Reported State             Time\n",
       "0       TRIANGLE    NY   6/1/1930 22:00\n",
       "1          OTHER    NJ  6/30/1930 20:00"
      ]
     },
     "execution_count": 66,
     "metadata": {},
     "output_type": "execute_result"
    }
   ],
   "source": [
    "# iloc ቁጥርን እንደጠቋሚ በመጠቀም የሚሰራ ነው። \n",
    "# በጋራ 0 እና 1 ረድፍ ላይ ያሉትን ለመለየት [0,1]\n",
    "# አምድ ለመጨመር ሲፈለግ ኮማ አድርጎ አምዱን መግለጽ \n",
    "# ምሳሌ ሼፕ ሪፖርትድ፣ ስቴት እና ታይምን ለመነጠል \n",
    "# ሁለት ስብር ቅንፍ በመጠቀም  \n",
    "ዳታ_ፍሬም.iloc[[0, 1], [2,3,4]]"
   ]
  },
  {
   "cell_type": "code",
   "execution_count": 82,
   "metadata": {},
   "outputs": [],
   "source": [
    "# ስቴትን  ብቻ ለመለየት ማለትም ሦስተኛውን አምድ\n",
    "# [ሮው(ረድፍ), ኮለመን(አምድ)]\n",
    "ሲሪስ_ስቴት_iloc = ዳታ_ፍሬም.iloc[:,3]"
   ]
  },
  {
   "cell_type": "markdown",
   "metadata": {},
   "source": [
    "## ዳታፍሬም (ሰንጠረዝ)"
   ]
  },
  {
   "cell_type": "markdown",
   "metadata": {},
   "source": [
    "ሰንጠረዥ ወይም ዳታፍሬም የምንለው የሲሪስ ስብስብ ሊሆን ይችላል። ሲሪስ ከላይ እንደተመለከትነው የመዝገበቃል አይነት ቅርጽ ይዞ ሊመሰረት ይችላል።  "
   ]
  },
  {
   "cell_type": "code",
   "execution_count": 83,
   "metadata": {},
   "outputs": [],
   "source": [
    "# ከሲሪስ ለምሳሌ የሚሆን ምናባዊ ውሂብ በመውሰድ ዳታፍሬም (ሰንጠረዥ) መፍጠር \n",
    "የከተሞች_ስም = pd.Series({'አዲስ አበባ':'ፊንፊኔ', 'ናዝሬት': 'አዳማ', 'ጅጅጋ' :'ጅግጅጋ', \n",
    "                      'አዋሳ': 'ሐዋሳ', 'ዓለማያ': 'ሐሮማያ', 'ደብረዘይት': 'ቢሾፍቱ'})\n",
    "ርቀት_ከአአ = pd.Series({'አዲስ አበባ':0, 'ናዝሬት': 78, 'ጅጅጋ' :445.82, \n",
    "                      'አዋሳ': 221.04, 'ዓለማያ': 506, 'ደብረዘይት': 64})\n",
    "\n",
    "# ዳታፍሬሙን ለመፍጠር (ከተማ እና ርቀት እንደ አምስ ስም ያገለግላሉ፣ መዝገቃላቱ እንደ ውሂብ)\n",
    "የከተሞች_ስም = pd.DataFrame({'ከተማ': የከተሞች_ስም ,'ርቀት':ርቀት_ከአአ})"
   ]
  },
  {
   "cell_type": "code",
   "execution_count": 84,
   "metadata": {},
   "outputs": [
    {
     "data": {
      "text/html": [
       "<div>\n",
       "<style scoped>\n",
       "    .dataframe tbody tr th:only-of-type {\n",
       "        vertical-align: middle;\n",
       "    }\n",
       "\n",
       "    .dataframe tbody tr th {\n",
       "        vertical-align: top;\n",
       "    }\n",
       "\n",
       "    .dataframe thead th {\n",
       "        text-align: right;\n",
       "    }\n",
       "</style>\n",
       "<table border=\"1\" class=\"dataframe\">\n",
       "  <thead>\n",
       "    <tr style=\"text-align: right;\">\n",
       "      <th></th>\n",
       "      <th>ርቀት</th>\n",
       "      <th>ከተማ</th>\n",
       "    </tr>\n",
       "  </thead>\n",
       "  <tbody>\n",
       "    <tr>\n",
       "      <th>ናዝሬት</th>\n",
       "      <td>78.00</td>\n",
       "      <td>አዳማ</td>\n",
       "    </tr>\n",
       "    <tr>\n",
       "      <th>አዋሳ</th>\n",
       "      <td>221.04</td>\n",
       "      <td>ሐዋሳ</td>\n",
       "    </tr>\n",
       "    <tr>\n",
       "      <th>አዲስ አበባ</th>\n",
       "      <td>0.00</td>\n",
       "      <td>ፊንፊኔ</td>\n",
       "    </tr>\n",
       "    <tr>\n",
       "      <th>ዓለማያ</th>\n",
       "      <td>506.00</td>\n",
       "      <td>ሐሮማያ</td>\n",
       "    </tr>\n",
       "    <tr>\n",
       "      <th>ደብረዘይት</th>\n",
       "      <td>64.00</td>\n",
       "      <td>ቢሾፍቱ</td>\n",
       "    </tr>\n",
       "    <tr>\n",
       "      <th>ጅጅጋ</th>\n",
       "      <td>445.82</td>\n",
       "      <td>ጅግጅጋ</td>\n",
       "    </tr>\n",
       "  </tbody>\n",
       "</table>\n",
       "</div>"
      ],
      "text/plain": [
       "            ርቀት   ከተማ\n",
       "ናዝሬት      78.00   አዳማ\n",
       "አዋሳ      221.04   ሐዋሳ\n",
       "አዲስ አበባ    0.00  ፊንፊኔ\n",
       "ዓለማያ     506.00  ሐሮማያ\n",
       "ደብረዘይት    64.00  ቢሾፍቱ\n",
       "ጅጅጋ      445.82  ጅግጅጋ"
      ]
     },
     "execution_count": 84,
     "metadata": {},
     "output_type": "execute_result"
    }
   ],
   "source": [
    "# የከተሞች ስም ውሂብ ምን እንደሚመስል መገመት ትችላላችሁ? \n",
    "# የከተሞቹን ስም እንደማውጫ ይወስዳል (ከሁለቱም መዝገቃላት ቁልፍ ላይ)\n",
    "# የተቀየረ ስማቸውን እና ከአአ ያላቸውን ርቀት በ ከተማ እና በ ርቀት አምድ ስር ያስቀምጣል። \n",
    "የከተሞች_ስም"
   ]
  },
  {
   "cell_type": "code",
   "execution_count": 88,
   "metadata": {},
   "outputs": [
    {
     "data": {
      "text/plain": [
       "ናዝሬት        78.00\n",
       "አዋሳ        221.04\n",
       "አዲስ አበባ      0.00\n",
       "ዓለማያ       506.00\n",
       "ደብረዘይት      64.00\n",
       "ጅጅጋ        445.82\n",
       "Name: ርቀት, dtype: float64"
      ]
     },
     "execution_count": 88,
     "metadata": {},
     "output_type": "execute_result"
    }
   ],
   "source": [
    "# ርቀትን ለይተን ማየት ብንፈልግ \n",
    "የከተሞች_ስም['ርቀት']"
   ]
  },
  {
   "cell_type": "code",
   "execution_count": 92,
   "metadata": {},
   "outputs": [
    {
     "data": {
      "text/html": [
       "<div>\n",
       "<style scoped>\n",
       "    .dataframe tbody tr th:only-of-type {\n",
       "        vertical-align: middle;\n",
       "    }\n",
       "\n",
       "    .dataframe tbody tr th {\n",
       "        vertical-align: top;\n",
       "    }\n",
       "\n",
       "    .dataframe thead th {\n",
       "        text-align: right;\n",
       "    }\n",
       "</style>\n",
       "<table border=\"1\" class=\"dataframe\">\n",
       "  <thead>\n",
       "    <tr style=\"text-align: right;\">\n",
       "      <th></th>\n",
       "      <th>ናዝሬት</th>\n",
       "      <th>አዋሳ</th>\n",
       "      <th>አዲስ አበባ</th>\n",
       "      <th>ዓለማያ</th>\n",
       "      <th>ደብረዘይት</th>\n",
       "      <th>ጅጅጋ</th>\n",
       "    </tr>\n",
       "  </thead>\n",
       "  <tbody>\n",
       "    <tr>\n",
       "      <th>ርቀት</th>\n",
       "      <td>78</td>\n",
       "      <td>221.04</td>\n",
       "      <td>0</td>\n",
       "      <td>506</td>\n",
       "      <td>64</td>\n",
       "      <td>445.82</td>\n",
       "    </tr>\n",
       "    <tr>\n",
       "      <th>ከተማ</th>\n",
       "      <td>አዳማ</td>\n",
       "      <td>ሐዋሳ</td>\n",
       "      <td>ፊንፊኔ</td>\n",
       "      <td>ሐሮማያ</td>\n",
       "      <td>ቢሾፍቱ</td>\n",
       "      <td>ጅግጅጋ</td>\n",
       "    </tr>\n",
       "  </tbody>\n",
       "</table>\n",
       "</div>"
      ],
      "text/plain": [
       "    ናዝሬት     አዋሳ አዲስ አበባ  ዓለማያ ደብረዘይት     ጅጅጋ\n",
       "ርቀት   78  221.04       0   506     64  445.82\n",
       "ከተማ  አዳማ     ሐዋሳ    ፊንፊኔ  ሐሮማያ   ቢሾፍቱ    ጅግጅጋ"
      ]
     },
     "execution_count": 92,
     "metadata": {},
     "output_type": "execute_result"
    }
   ],
   "source": [
    "# ማዟዟር ብንፈልግ (ትራንፖስ) ማለት ነው\n",
    "የከተሞች_ስም.T"
   ]
  },
  {
   "cell_type": "code",
   "execution_count": 94,
   "metadata": {},
   "outputs": [
    {
     "data": {
      "text/html": [
       "<div>\n",
       "<style scoped>\n",
       "    .dataframe tbody tr th:only-of-type {\n",
       "        vertical-align: middle;\n",
       "    }\n",
       "\n",
       "    .dataframe tbody tr th {\n",
       "        vertical-align: top;\n",
       "    }\n",
       "\n",
       "    .dataframe thead th {\n",
       "        text-align: right;\n",
       "    }\n",
       "</style>\n",
       "<table border=\"1\" class=\"dataframe\">\n",
       "  <thead>\n",
       "    <tr style=\"text-align: right;\">\n",
       "      <th></th>\n",
       "      <th>ርቀት</th>\n",
       "      <th>ከተማ</th>\n",
       "    </tr>\n",
       "  </thead>\n",
       "  <tbody>\n",
       "    <tr>\n",
       "      <th>ዓለማያ</th>\n",
       "      <td>506.00</td>\n",
       "      <td>ሐሮማያ</td>\n",
       "    </tr>\n",
       "    <tr>\n",
       "      <th>ጅጅጋ</th>\n",
       "      <td>445.82</td>\n",
       "      <td>ጅግጅጋ</td>\n",
       "    </tr>\n",
       "  </tbody>\n",
       "</table>\n",
       "</div>"
      ],
      "text/plain": [
       "         ርቀት   ከተማ\n",
       "ዓለማያ  506.00  ሐሮማያ\n",
       "ጅጅጋ   445.82  ጅግጅጋ"
      ]
     },
     "execution_count": 94,
     "metadata": {},
     "output_type": "execute_result"
    }
   ],
   "source": [
    "# ከአዲስ አበባ 300 ኪሎ ሜትር በላይ የሚርቁ ከተሞችን ብንፈልግ \n",
    "የከተሞች_ስም[የከተሞች_ስም['ርቀት']>300]"
   ]
  },
  {
   "cell_type": "markdown",
   "metadata": {},
   "source": [
    "### ከፋይ በማንበብ መለየት"
   ]
  },
  {
   "cell_type": "code",
   "execution_count": 95,
   "metadata": {},
   "outputs": [],
   "source": [
    "# ዳታፌሬሙን ዳታ_ፍሬም በሚል ተለዋዋጭ ላይ ማንበብ \n",
    "ዳታ_ፍሬም = pd.read_csv('./data/ufo.csv')"
   ]
  },
  {
   "cell_type": "code",
   "execution_count": 96,
   "metadata": {},
   "outputs": [
    {
     "data": {
      "text/html": [
       "<div>\n",
       "<style scoped>\n",
       "    .dataframe tbody tr th:only-of-type {\n",
       "        vertical-align: middle;\n",
       "    }\n",
       "\n",
       "    .dataframe tbody tr th {\n",
       "        vertical-align: top;\n",
       "    }\n",
       "\n",
       "    .dataframe thead th {\n",
       "        text-align: right;\n",
       "    }\n",
       "</style>\n",
       "<table border=\"1\" class=\"dataframe\">\n",
       "  <thead>\n",
       "    <tr style=\"text-align: right;\">\n",
       "      <th></th>\n",
       "      <th>City</th>\n",
       "      <th>Colors Reported</th>\n",
       "      <th>Shape Reported</th>\n",
       "      <th>State</th>\n",
       "      <th>Time</th>\n",
       "    </tr>\n",
       "  </thead>\n",
       "  <tbody>\n",
       "    <tr>\n",
       "      <th>0</th>\n",
       "      <td>Ithaca</td>\n",
       "      <td>NaN</td>\n",
       "      <td>TRIANGLE</td>\n",
       "      <td>NY</td>\n",
       "      <td>6/1/1930 22:00</td>\n",
       "    </tr>\n",
       "    <tr>\n",
       "      <th>1</th>\n",
       "      <td>Willingboro</td>\n",
       "      <td>NaN</td>\n",
       "      <td>OTHER</td>\n",
       "      <td>NJ</td>\n",
       "      <td>6/30/1930 20:00</td>\n",
       "    </tr>\n",
       "    <tr>\n",
       "      <th>2</th>\n",
       "      <td>Holyoke</td>\n",
       "      <td>NaN</td>\n",
       "      <td>OVAL</td>\n",
       "      <td>CO</td>\n",
       "      <td>2/15/1931 14:00</td>\n",
       "    </tr>\n",
       "    <tr>\n",
       "      <th>3</th>\n",
       "      <td>Abilene</td>\n",
       "      <td>NaN</td>\n",
       "      <td>DISK</td>\n",
       "      <td>KS</td>\n",
       "      <td>6/1/1931 13:00</td>\n",
       "    </tr>\n",
       "    <tr>\n",
       "      <th>4</th>\n",
       "      <td>New York Worlds Fair</td>\n",
       "      <td>NaN</td>\n",
       "      <td>LIGHT</td>\n",
       "      <td>NY</td>\n",
       "      <td>4/18/1933 19:00</td>\n",
       "    </tr>\n",
       "  </tbody>\n",
       "</table>\n",
       "</div>"
      ],
      "text/plain": [
       "                   City Colors Reported Shape Reported State             Time\n",
       "0                Ithaca             NaN       TRIANGLE    NY   6/1/1930 22:00\n",
       "1           Willingboro             NaN          OTHER    NJ  6/30/1930 20:00\n",
       "2               Holyoke             NaN           OVAL    CO  2/15/1931 14:00\n",
       "3               Abilene             NaN           DISK    KS   6/1/1931 13:00\n",
       "4  New York Worlds Fair             NaN          LIGHT    NY  4/18/1933 19:00"
      ]
     },
     "execution_count": 96,
     "metadata": {},
     "output_type": "execute_result"
    }
   ],
   "source": [
    "# አምዶችን በፍጥነት ለማየት እና ፋይል በሚገባ መነበቡን ለማረጋገጥ \n",
    "ዳታ_ፍሬም.head()"
   ]
  },
  {
   "cell_type": "code",
   "execution_count": 115,
   "metadata": {},
   "outputs": [
    {
     "data": {
      "text/plain": [
       "City                       Ithaca\n",
       "Colors Reported               NaN\n",
       "Shape Reported           TRIANGLE\n",
       "State                          NY\n",
       "Time               6/1/1930 22:00\n",
       "Name: 0, dtype: object"
      ]
     },
     "execution_count": 115,
     "metadata": {},
     "output_type": "execute_result"
    }
   ],
   "source": [
    "# የመጀመሪያውን ረድፍ ለማየት \n",
    "ዳታ_ፍሬም.loc[0]"
   ]
  },
  {
   "cell_type": "code",
   "execution_count": 118,
   "metadata": {},
   "outputs": [
    {
     "data": {
      "text/html": [
       "<div>\n",
       "<style scoped>\n",
       "    .dataframe tbody tr th:only-of-type {\n",
       "        vertical-align: middle;\n",
       "    }\n",
       "\n",
       "    .dataframe tbody tr th {\n",
       "        vertical-align: top;\n",
       "    }\n",
       "\n",
       "    .dataframe thead th {\n",
       "        text-align: right;\n",
       "    }\n",
       "</style>\n",
       "<table border=\"1\" class=\"dataframe\">\n",
       "  <thead>\n",
       "    <tr style=\"text-align: right;\">\n",
       "      <th></th>\n",
       "      <th>City</th>\n",
       "      <th>Colors Reported</th>\n",
       "      <th>Shape Reported</th>\n",
       "      <th>State</th>\n",
       "      <th>Time</th>\n",
       "    </tr>\n",
       "  </thead>\n",
       "  <tbody>\n",
       "    <tr>\n",
       "      <th>0</th>\n",
       "      <td>Ithaca</td>\n",
       "      <td>NaN</td>\n",
       "      <td>TRIANGLE</td>\n",
       "      <td>NY</td>\n",
       "      <td>6/1/1930 22:00</td>\n",
       "    </tr>\n",
       "    <tr>\n",
       "      <th>1</th>\n",
       "      <td>Willingboro</td>\n",
       "      <td>NaN</td>\n",
       "      <td>OTHER</td>\n",
       "      <td>NJ</td>\n",
       "      <td>6/30/1930 20:00</td>\n",
       "    </tr>\n",
       "    <tr>\n",
       "      <th>2</th>\n",
       "      <td>Holyoke</td>\n",
       "      <td>NaN</td>\n",
       "      <td>OVAL</td>\n",
       "      <td>CO</td>\n",
       "      <td>2/15/1931 14:00</td>\n",
       "    </tr>\n",
       "    <tr>\n",
       "      <th>3</th>\n",
       "      <td>Abilene</td>\n",
       "      <td>NaN</td>\n",
       "      <td>DISK</td>\n",
       "      <td>KS</td>\n",
       "      <td>6/1/1931 13:00</td>\n",
       "    </tr>\n",
       "  </tbody>\n",
       "</table>\n",
       "</div>"
      ],
      "text/plain": [
       "          City Colors Reported Shape Reported State             Time\n",
       "0       Ithaca             NaN       TRIANGLE    NY   6/1/1930 22:00\n",
       "1  Willingboro             NaN          OTHER    NJ  6/30/1930 20:00\n",
       "2      Holyoke             NaN           OVAL    CO  2/15/1931 14:00\n",
       "3      Abilene             NaN           DISK    KS   6/1/1931 13:00"
      ]
     },
     "execution_count": 118,
     "metadata": {},
     "output_type": "execute_result"
    }
   ],
   "source": [
    "# ከመጀመሪያው እስከ 3ስተኛው ረድፍ (3ስተኛውን) ይጨምራል\n",
    "#ዳታ_ፍሬም.loc[:3] ይሰራል \n",
    "ዳታ_ፍሬም.loc[0:3]"
   ]
  },
  {
   "cell_type": "code",
   "execution_count": 120,
   "metadata": {},
   "outputs": [],
   "source": [
    "# ታዩ የተባሉት ዩፎዎች ቅርጻቸው ኦቫል የተባሉትን ለይቶ ለማውጣት \n",
    "ዩፎ_ኦቫል = ዳታ_ፍሬም[ዳታ_ፍሬም['Shape Reported']=='OVAL']"
   ]
  },
  {
   "cell_type": "code",
   "execution_count": 121,
   "metadata": {},
   "outputs": [
    {
     "data": {
      "text/html": [
       "<div>\n",
       "<style scoped>\n",
       "    .dataframe tbody tr th:only-of-type {\n",
       "        vertical-align: middle;\n",
       "    }\n",
       "\n",
       "    .dataframe tbody tr th {\n",
       "        vertical-align: top;\n",
       "    }\n",
       "\n",
       "    .dataframe thead th {\n",
       "        text-align: right;\n",
       "    }\n",
       "</style>\n",
       "<table border=\"1\" class=\"dataframe\">\n",
       "  <thead>\n",
       "    <tr style=\"text-align: right;\">\n",
       "      <th></th>\n",
       "      <th>City</th>\n",
       "      <th>Colors Reported</th>\n",
       "      <th>Shape Reported</th>\n",
       "      <th>State</th>\n",
       "      <th>Time</th>\n",
       "    </tr>\n",
       "  </thead>\n",
       "  <tbody>\n",
       "    <tr>\n",
       "      <th>2</th>\n",
       "      <td>Holyoke</td>\n",
       "      <td>NaN</td>\n",
       "      <td>OVAL</td>\n",
       "      <td>CO</td>\n",
       "      <td>2/15/1931 14:00</td>\n",
       "    </tr>\n",
       "    <tr>\n",
       "      <th>13</th>\n",
       "      <td>Keokuk</td>\n",
       "      <td>NaN</td>\n",
       "      <td>OVAL</td>\n",
       "      <td>IA</td>\n",
       "      <td>7/7/1939 2:00</td>\n",
       "    </tr>\n",
       "    <tr>\n",
       "      <th>39</th>\n",
       "      <td>San Antonio</td>\n",
       "      <td>NaN</td>\n",
       "      <td>OVAL</td>\n",
       "      <td>NM</td>\n",
       "      <td>8/16/1945 11:30</td>\n",
       "    </tr>\n",
       "  </tbody>\n",
       "</table>\n",
       "</div>"
      ],
      "text/plain": [
       "           City Colors Reported Shape Reported State             Time\n",
       "2       Holyoke             NaN           OVAL    CO  2/15/1931 14:00\n",
       "13       Keokuk             NaN           OVAL    IA    7/7/1939 2:00\n",
       "39  San Antonio             NaN           OVAL    NM  8/16/1945 11:30"
      ]
     },
     "execution_count": 121,
     "metadata": {},
     "output_type": "execute_result"
    }
   ],
   "source": [
    "ዩፎ_ኦቫል.head(3)"
   ]
  },
  {
   "cell_type": "code",
   "execution_count": 131,
   "metadata": {},
   "outputs": [],
   "source": [
    "# ዩፎዎቹ የታዩበት ከተማ፣ ቅርጽ እና  የታዩበትን ጊዜ መነጠል ብንፈልግ (iloc) በመጠቀም \n",
    "ዩፎ_የታየበት_ጊዜ_ቅርጽ_iloc = ዳታ_ፍሬም.iloc[:,[0,2, -1]]"
   ]
  },
  {
   "cell_type": "code",
   "execution_count": 132,
   "metadata": {},
   "outputs": [
    {
     "data": {
      "text/html": [
       "<div>\n",
       "<style scoped>\n",
       "    .dataframe tbody tr th:only-of-type {\n",
       "        vertical-align: middle;\n",
       "    }\n",
       "\n",
       "    .dataframe tbody tr th {\n",
       "        vertical-align: top;\n",
       "    }\n",
       "\n",
       "    .dataframe thead th {\n",
       "        text-align: right;\n",
       "    }\n",
       "</style>\n",
       "<table border=\"1\" class=\"dataframe\">\n",
       "  <thead>\n",
       "    <tr style=\"text-align: right;\">\n",
       "      <th></th>\n",
       "      <th>City</th>\n",
       "      <th>Shape Reported</th>\n",
       "      <th>Time</th>\n",
       "    </tr>\n",
       "  </thead>\n",
       "  <tbody>\n",
       "    <tr>\n",
       "      <th>0</th>\n",
       "      <td>Ithaca</td>\n",
       "      <td>TRIANGLE</td>\n",
       "      <td>6/1/1930 22:00</td>\n",
       "    </tr>\n",
       "    <tr>\n",
       "      <th>1</th>\n",
       "      <td>Willingboro</td>\n",
       "      <td>OTHER</td>\n",
       "      <td>6/30/1930 20:00</td>\n",
       "    </tr>\n",
       "    <tr>\n",
       "      <th>2</th>\n",
       "      <td>Holyoke</td>\n",
       "      <td>OVAL</td>\n",
       "      <td>2/15/1931 14:00</td>\n",
       "    </tr>\n",
       "  </tbody>\n",
       "</table>\n",
       "</div>"
      ],
      "text/plain": [
       "          City Shape Reported             Time\n",
       "0       Ithaca       TRIANGLE   6/1/1930 22:00\n",
       "1  Willingboro          OTHER  6/30/1930 20:00\n",
       "2      Holyoke           OVAL  2/15/1931 14:00"
      ]
     },
     "execution_count": 132,
     "metadata": {},
     "output_type": "execute_result"
    }
   ],
   "source": [
    "ዩፎ_የታየበት_ጊዜ_ቅርጽ_iloc.head(3)"
   ]
  },
  {
   "cell_type": "code",
   "execution_count": 133,
   "metadata": {},
   "outputs": [],
   "source": [
    "# ዩፎዎቹ የታዩበት ከተማ፣ ቅርጽ እና  የታዩበትን ጊዜ መነጠል ብንፈልግ (locን) በመጠቀም \n",
    "ዩፎ_የታየበት_ጊዜ_ቅርጽ_loc =ዳታ_ፍሬም.loc[:,['City','Shape Reported', 'Time']]"
   ]
  },
  {
   "cell_type": "code",
   "execution_count": 134,
   "metadata": {},
   "outputs": [
    {
     "data": {
      "text/html": [
       "<div>\n",
       "<style scoped>\n",
       "    .dataframe tbody tr th:only-of-type {\n",
       "        vertical-align: middle;\n",
       "    }\n",
       "\n",
       "    .dataframe tbody tr th {\n",
       "        vertical-align: top;\n",
       "    }\n",
       "\n",
       "    .dataframe thead th {\n",
       "        text-align: right;\n",
       "    }\n",
       "</style>\n",
       "<table border=\"1\" class=\"dataframe\">\n",
       "  <thead>\n",
       "    <tr style=\"text-align: right;\">\n",
       "      <th></th>\n",
       "      <th>City</th>\n",
       "      <th>Shape Reported</th>\n",
       "      <th>Time</th>\n",
       "    </tr>\n",
       "  </thead>\n",
       "  <tbody>\n",
       "    <tr>\n",
       "      <th>0</th>\n",
       "      <td>Ithaca</td>\n",
       "      <td>TRIANGLE</td>\n",
       "      <td>6/1/1930 22:00</td>\n",
       "    </tr>\n",
       "    <tr>\n",
       "      <th>1</th>\n",
       "      <td>Willingboro</td>\n",
       "      <td>OTHER</td>\n",
       "      <td>6/30/1930 20:00</td>\n",
       "    </tr>\n",
       "    <tr>\n",
       "      <th>2</th>\n",
       "      <td>Holyoke</td>\n",
       "      <td>OVAL</td>\n",
       "      <td>2/15/1931 14:00</td>\n",
       "    </tr>\n",
       "  </tbody>\n",
       "</table>\n",
       "</div>"
      ],
      "text/plain": [
       "          City Shape Reported             Time\n",
       "0       Ithaca       TRIANGLE   6/1/1930 22:00\n",
       "1  Willingboro          OTHER  6/30/1930 20:00\n",
       "2      Holyoke           OVAL  2/15/1931 14:00"
      ]
     },
     "execution_count": 134,
     "metadata": {},
     "output_type": "execute_result"
    }
   ],
   "source": [
    "ዩፎ_የታየበት_ጊዜ_ቅርጽ_loc.head(3)"
   ]
  },
  {
   "cell_type": "code",
   "execution_count": 135,
   "metadata": {},
   "outputs": [
    {
     "data": {
      "text/plain": [
       "True"
      ]
     },
     "execution_count": 135,
     "metadata": {},
     "output_type": "execute_result"
    }
   ],
   "source": [
    "#እኩል መሆናቸውን ለማረጋገጥ \n",
    "ዩፎ_የታየበት_ጊዜ_ቅርጽ_iloc.equals(ዩፎ_የታየበት_ጊዜ_ቅርጽ_loc)"
   ]
  },
  {
   "cell_type": "markdown",
   "metadata": {},
   "source": [
    "# ማጠቃለያ"
   ]
  },
  {
   "cell_type": "markdown",
   "metadata": {},
   "source": [
    "ውሂብን ከዳታፍሬም ወይም ሰንጠረዝ ለይቶ ትንተና ለማድረግ ከሚጠቅሙ መሰረታዊ የሆኑትን ተመልክትናል። ሎክ እና አይሎክን በሚቀጥለው ክፍል መሰረታዊ የሒሳብ ስሌቶችን እንዴት እንደምናካሂድ እንመለከታለን።  "
   ]
  },
  {
   "cell_type": "code",
   "execution_count": null,
   "metadata": {},
   "outputs": [],
   "source": []
  }
 ],
 "metadata": {
  "kernelspec": {
   "display_name": "Python 3",
   "language": "python",
   "name": "python3"
  },
  "language_info": {
   "codemirror_mode": {
    "name": "ipython",
    "version": 3
   },
   "file_extension": ".py",
   "mimetype": "text/x-python",
   "name": "python",
   "nbconvert_exporter": "python",
   "pygments_lexer": "ipython3",
   "version": "3.6.7"
  }
 },
 "nbformat": 4,
 "nbformat_minor": 2
}
